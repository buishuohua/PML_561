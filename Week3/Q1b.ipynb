{
 "cells": [
  {
   "cell_type": "code",
   "execution_count": 1,
   "metadata": {},
   "outputs": [],
   "source": [
    "from tqdm import tqdm\n",
    "import torch\n",
    "import torch.nn as nn\n",
    "import numpy as np"
   ]
  },
  {
   "cell_type": "code",
   "execution_count": 5,
   "metadata": {},
   "outputs": [],
   "source": [
    "class BaseModel(nn.Module):\n",
    "    def __init__(self, input_dim, output_dim):\n",
    "        super().__init__()\n",
    "        self.linear = nn.Linear(input_dim, output_dim, bias=False)\n",
    "    def forward(self, x):\n",
    "        return self.linear(x)"
   ]
  },
  {
   "cell_type": "code",
   "execution_count": 21,
   "metadata": {},
   "outputs": [],
   "source": [
    "class RobustNoiseAddition:\n",
    "    def __init__(self, input_dim, output_dim, c, model_lr=0.001, model_iterations=10):\n",
    "        self.input_dim = input_dim\n",
    "        self.output_dim = output_dim\n",
    "        self.c = torch.abs(c)\n",
    "        self.model_lr = model_lr\n",
    "        self.model_iterations = model_iterations\n",
    "        self.model = BaseModel(input_dim, output_dim)\n",
    "\n",
    "    def find_largest_delta(self, X):\n",
    "        \"\"\"\n",
    "        Find Delta that maximizes ||Delta||_2 subject to\n",
    "        sum_{i=1}^n Delta_{i,j}^2 <= c_j for each feature j\n",
    "        \"\"\"\n",
    "        n, p = X.shape\n",
    "        Delta = torch.zeros((n, p))\n",
    "        for j in range(p):\n",
    "            magnitude = torch.sqrt(self.c[j] / n)\n",
    "            signs = torch.sign(torch.randn(n))\n",
    "            Delta[:, j] = magnitude * signs\n",
    "        return Delta\n",
    "\n",
    "    def fit(self, X, y):\n",
    "        \"\"\"Train robust model\"\"\"\n",
    "        X_mean = X.mean(0)\n",
    "        X_std = X.std(0)\n",
    "        y_mean = y.mean()\n",
    "        y_std = y.std()\n",
    "\n",
    "        X_normalized = (X - X_mean) / X_std\n",
    "        y_normalized = (y - y_mean) / y_std\n",
    "\n",
    "        Delta = self.find_largest_delta(X_normalized)\n",
    "        X_perturbed = X_normalized + Delta\n",
    "\n",
    "        optimizer = torch.optim.Adam(self.model.parameters(), lr=self.model_lr)\n",
    "        criterion = nn.MSELoss()\n",
    "\n",
    "        for i in tqdm(range(self.model_iterations)):\n",
    "            optimizer.zero_grad()\n",
    "            y_pred = self.model(X_perturbed)\n",
    "            loss = criterion(y_pred, y_normalized.view(-1, 1))\n",
    "            loss.backward()\n",
    "            torch.nn.utils.clip_grad_norm_(\n",
    "                self.model.parameters(), max_norm=1.0)\n",
    "            optimizer.step()\n",
    "\n",
    "        normalized_weights = self.model.linear.weight.data\n",
    "        denormalized_weights = normalized_weights * (y_std / X_std)\n",
    "        self.denormalized_weights = denormalized_weights\n",
    "        return self\n",
    "\n",
    "    def predict(self, X):\n",
    "        \"\"\"Make predictions\"\"\"\n",
    "        self.model.eval()\n",
    "        with torch.no_grad():\n",
    "            return self.model(X)"
   ]
  },
  {
   "cell_type": "code",
   "execution_count": 23,
   "metadata": {},
   "outputs": [
    {
     "name": "stderr",
     "output_type": "stream",
     "text": [
      "100%|██████████| 1000/1000 [00:00<00:00, 9432.63it/s]"
     ]
    },
    {
     "name": "stdout",
     "output_type": "stream",
     "text": [
      "Noise Addition Weights: tensor([[0.9465, 2.0440, 2.9547, 4.1448, 4.8771, 6.0621, 6.4449, 8.0948, 8.8365,\n",
      "         9.9975]])\n",
      "True Weights: tensor([ 1.,  2.,  3.,  4.,  5.,  6.,  7.,  8.,  9., 10.])\n"
     ]
    },
    {
     "name": "stderr",
     "output_type": "stream",
     "text": [
      "\n"
     ]
    }
   ],
   "source": [
    "torch.manual_seed(42)\n",
    "np.random.seed(42)\n",
    "\n",
    "n_samples, n_features = 100, 10\n",
    "X = torch.randn((n_samples, n_features))\n",
    "true_weights = torch.FloatTensor([i + 1 for i in range(n_features)])\n",
    "y = X @ true_weights + torch.normal(0, 0.1, (n_samples,))\n",
    "\n",
    "c = torch.abs(torch.randn((n_features,))) * 0.1\n",
    "\n",
    "robust_model = RobustNoiseAddition(\n",
    "    input_dim=n_features,\n",
    "    output_dim=1,\n",
    "    c=c,\n",
    "    model_lr=0.001,\n",
    "    model_iterations=1000\n",
    ")\n",
    "robust_model.fit(X, y)\n",
    "print(\"Noise Addition Weights:\", robust_model.denormalized_weights)\n",
    "print(\"True Weights:\", true_weights)"
   ]
  }
 ],
 "metadata": {
  "kernelspec": {
   "display_name": "pml",
   "language": "python",
   "name": "python3"
  },
  "language_info": {
   "codemirror_mode": {
    "name": "ipython",
    "version": 3
   },
   "file_extension": ".py",
   "mimetype": "text/x-python",
   "name": "python",
   "nbconvert_exporter": "python",
   "pygments_lexer": "ipython3",
   "version": "3.10.16"
  }
 },
 "nbformat": 4,
 "nbformat_minor": 2
}
